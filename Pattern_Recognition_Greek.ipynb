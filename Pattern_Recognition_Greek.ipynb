{
  "cells": [
    {
      "cell_type": "code",
      "execution_count": 5,
      "metadata": {
        "id": "vnfBg6IvVgof"
      },
      "outputs": [],
      "source": [
        "import pandas as pd\n",
        "import numpy as np\n",
        "import matplotlib.pyplot as plt\n",
        "import seaborn as sns\n",
        "import csv\n"
      ]
    },
    {
      "cell_type": "code",
      "execution_count": 6,
      "metadata": {},
      "outputs": [
        {
          "name": "stderr",
          "output_type": "stream",
          "text": [
            "/var/folders/js/rpgbtqk16klblkqlcbv7mp380000gn/T/ipykernel_22134/2610272692.py:1: DtypeWarning: Columns (4) have mixed types. Specify dtype option on import or set low_memory=False.\n",
            "  df1 = pd.read_csv('europarl-v10.el-en.tsv.gz', sep='\\t', quoting=csv.QUOTE_NONE, on_bad_lines='skip')\n"
          ]
        }
      ],
      "source": [
        "\n",
        "df1 = pd.read_csv('europarl-v10.el-en.tsv.gz', sep='\\t', quoting=csv.QUOTE_NONE, on_bad_lines='skip')\n"
      ]
    },
    {
      "cell_type": "code",
      "execution_count": 7,
      "metadata": {
        "colab": {
          "base_uri": "https://localhost:8080/",
          "height": 780
        },
        "id": "NVYRM49qWM_Z",
        "outputId": "e9a62e50-4add-490d-f191-ca4196bc9c30"
      },
      "outputs": [
        {
          "data": {
            "text/html": [
              "<div>\n",
              "<style scoped>\n",
              "    .dataframe tbody tr th:only-of-type {\n",
              "        vertical-align: middle;\n",
              "    }\n",
              "\n",
              "    .dataframe tbody tr th {\n",
              "        vertical-align: top;\n",
              "    }\n",
              "\n",
              "    .dataframe thead th {\n",
              "        text-align: right;\n",
              "    }\n",
              "</style>\n",
              "<table border=\"1\" class=\"dataframe\">\n",
              "  <thead>\n",
              "    <tr style=\"text-align: right;\">\n",
              "      <th></th>\n",
              "      <th>4.</th>\n",
              "      <th>4..1</th>\n",
              "      <th>ep-09-11-26-008-04.txt</th>\n",
              "      <th>008-04</th>\n",
              "      <th>Unnamed: 4</th>\n",
              "      <th>Unnamed: 5</th>\n",
              "      <th>Unnamed: 6</th>\n",
              "      <th>Unnamed: 7</th>\n",
              "    </tr>\n",
              "  </thead>\n",
              "  <tbody>\n",
              "    <tr>\n",
              "      <th>0</th>\n",
              "      <td>Κύρωση και εφαρμογή των αναθεωρημένων συμβάσεω...</td>\n",
              "      <td>The ratification and implementation of the upd...</td>\n",
              "      <td>ep-09-11-26-008-04.txt</td>\n",
              "      <td>008-04</td>\n",
              "      <td>NaN</td>\n",
              "      <td>NaN</td>\n",
              "      <td>NaN</td>\n",
              "      <td>NaN</td>\n",
              "    </tr>\n",
              "    <tr>\n",
              "      <th>1</th>\n",
              "      <td>7.</td>\n",
              "      <td>7.</td>\n",
              "      <td>ep-08-03-12-005-07.txt</td>\n",
              "      <td>005-07</td>\n",
              "      <td>NaN</td>\n",
              "      <td>NaN</td>\n",
              "      <td>NaN</td>\n",
              "      <td>NaN</td>\n",
              "    </tr>\n",
              "    <tr>\n",
              "      <th>2</th>\n",
              "      <td>Βιώσιμη γεωργία και βιοαέριο: ανάγκη αναθεώρησ...</td>\n",
              "      <td>Sustainable agriculture and biogas: review of ...</td>\n",
              "      <td>ep-08-03-12-005-07.txt</td>\n",
              "      <td>005-07</td>\n",
              "      <td>NaN</td>\n",
              "      <td>NaN</td>\n",
              "      <td>NaN</td>\n",
              "      <td>NaN</td>\n",
              "    </tr>\n",
              "    <tr>\n",
              "      <th>3</th>\n",
              "      <td>- Πριν από την ψηφοφορία επί της παραγράφου 41:</td>\n",
              "      <td>- Before the vote on paragraph 41:</td>\n",
              "      <td>ep-08-03-12-005-07.txt</td>\n",
              "      <td>005-07</td>\n",
              "      <td>NaN</td>\n",
              "      <td>NaN</td>\n",
              "      <td>NaN</td>\n",
              "      <td>NaN</td>\n",
              "    </tr>\n",
              "    <tr>\n",
              "      <th>4</th>\n",
              "      <td>εισηγητής. - (EN) Κύριε Πρόεδρε, συμφωνήσαμε ν...</td>\n",
              "      <td>rapporteur. - Mr President, we agreed to chang...</td>\n",
              "      <td>ep-08-03-12-005-07.txt</td>\n",
              "      <td>005-07</td>\n",
              "      <td>101.0</td>\n",
              "      <td>Csaba Sándor Tabajdi</td>\n",
              "      <td>NaN</td>\n",
              "      <td>NaN</td>\n",
              "    </tr>\n",
              "    <tr>\n",
              "      <th>5</th>\n",
              "      <td>Το κείμενο έχει ως εξής: \"Προτείνει την περιεκ...</td>\n",
              "      <td>The text is as follows: 'Proposes the comprehe...</td>\n",
              "      <td>ep-08-03-12-005-07.txt</td>\n",
              "      <td>005-07</td>\n",
              "      <td>101.0</td>\n",
              "      <td>Csaba Sándor Tabajdi</td>\n",
              "      <td>NaN</td>\n",
              "      <td>NaN</td>\n",
              "    </tr>\n",
              "    <tr>\n",
              "      <th>6</th>\n",
              "      <td>Επιπλέον, συμφωνήσαμε να διαγράψουμε το σημείο...</td>\n",
              "      <td>Plus we agreed to delete point '(a)'.</td>\n",
              "      <td>ep-08-03-12-005-07.txt</td>\n",
              "      <td>005-07</td>\n",
              "      <td>101.0</td>\n",
              "      <td>Csaba Sándor Tabajdi</td>\n",
              "      <td>NaN</td>\n",
              "      <td>NaN</td>\n",
              "    </tr>\n",
              "    <tr>\n",
              "      <th>7</th>\n",
              "      <td>(Το Σώμα εγκρίνει την προφορική τροπολογία)</td>\n",
              "      <td>(Parliament agreed to accept the oral amendment)</td>\n",
              "      <td>ep-08-03-12-005-07.txt</td>\n",
              "      <td>005-07</td>\n",
              "      <td>101.0</td>\n",
              "      <td>Csaba Sándor Tabajdi</td>\n",
              "      <td>NaN</td>\n",
              "      <td>NaN</td>\n",
              "    </tr>\n",
              "    <tr>\n",
              "      <th>8</th>\n",
              "      <td>Συμβούλιο Ανθρωπίνων Δικαιωμάτων των Ηνωμένων ...</td>\n",
              "      <td>United Nations Human Rights Council (debate)</td>\n",
              "      <td>ep-07-06-06-014.txt</td>\n",
              "      <td>014</td>\n",
              "      <td>NaN</td>\n",
              "      <td>NaN</td>\n",
              "      <td>NaN</td>\n",
              "      <td>NaN</td>\n",
              "    </tr>\n",
              "    <tr>\n",
              "      <th>9</th>\n",
              "      <td>\" ημερήσια διάταξη προβλέπει τις δηλώσεις του ...</td>\n",
              "      <td>The next item is the Council and Commission st...</td>\n",
              "      <td>ep-07-06-06-014.txt</td>\n",
              "      <td>014</td>\n",
              "      <td>107.0</td>\n",
              "      <td>Πρόεδρος</td>\n",
              "      <td>NaN</td>\n",
              "      <td>NaN</td>\n",
              "    </tr>\n",
              "  </tbody>\n",
              "</table>\n",
              "</div>"
            ],
            "text/plain": [
              "                                                  4.  \\\n",
              "0  Κύρωση και εφαρμογή των αναθεωρημένων συμβάσεω...   \n",
              "1                                                 7.   \n",
              "2  Βιώσιμη γεωργία και βιοαέριο: ανάγκη αναθεώρησ...   \n",
              "3    - Πριν από την ψηφοφορία επί της παραγράφου 41:   \n",
              "4  εισηγητής. - (EN) Κύριε Πρόεδρε, συμφωνήσαμε ν...   \n",
              "5  Το κείμενο έχει ως εξής: \"Προτείνει την περιεκ...   \n",
              "6  Επιπλέον, συμφωνήσαμε να διαγράψουμε το σημείο...   \n",
              "7        (Το Σώμα εγκρίνει την προφορική τροπολογία)   \n",
              "8  Συμβούλιο Ανθρωπίνων Δικαιωμάτων των Ηνωμένων ...   \n",
              "9  \" ημερήσια διάταξη προβλέπει τις δηλώσεις του ...   \n",
              "\n",
              "                                                4..1  ep-09-11-26-008-04.txt  \\\n",
              "0  The ratification and implementation of the upd...  ep-09-11-26-008-04.txt   \n",
              "1                                                 7.  ep-08-03-12-005-07.txt   \n",
              "2  Sustainable agriculture and biogas: review of ...  ep-08-03-12-005-07.txt   \n",
              "3                 - Before the vote on paragraph 41:  ep-08-03-12-005-07.txt   \n",
              "4  rapporteur. - Mr President, we agreed to chang...  ep-08-03-12-005-07.txt   \n",
              "5  The text is as follows: 'Proposes the comprehe...  ep-08-03-12-005-07.txt   \n",
              "6              Plus we agreed to delete point '(a)'.  ep-08-03-12-005-07.txt   \n",
              "7   (Parliament agreed to accept the oral amendment)  ep-08-03-12-005-07.txt   \n",
              "8       United Nations Human Rights Council (debate)     ep-07-06-06-014.txt   \n",
              "9  The next item is the Council and Commission st...     ep-07-06-06-014.txt   \n",
              "\n",
              "   008-04 Unnamed: 4            Unnamed: 5 Unnamed: 6 Unnamed: 7  \n",
              "0  008-04        NaN                   NaN        NaN        NaN  \n",
              "1  005-07        NaN                   NaN        NaN        NaN  \n",
              "2  005-07        NaN                   NaN        NaN        NaN  \n",
              "3  005-07        NaN                   NaN        NaN        NaN  \n",
              "4  005-07      101.0  Csaba Sándor Tabajdi        NaN        NaN  \n",
              "5  005-07      101.0  Csaba Sándor Tabajdi        NaN        NaN  \n",
              "6  005-07      101.0  Csaba Sándor Tabajdi        NaN        NaN  \n",
              "7  005-07      101.0  Csaba Sándor Tabajdi        NaN        NaN  \n",
              "8     014        NaN                   NaN        NaN        NaN  \n",
              "9     014      107.0              Πρόεδρος        NaN        NaN  "
            ]
          },
          "execution_count": 7,
          "metadata": {},
          "output_type": "execute_result"
        }
      ],
      "source": [
        "df1.head(10)"
      ]
    },
    {
      "cell_type": "code",
      "execution_count": 9,
      "metadata": {
        "colab": {
          "base_uri": "https://localhost:8080/",
          "height": 192
        },
        "id": "GOZlJmdGWtFA",
        "outputId": "50507a04-1ed9-4acb-d6d7-6307b364c707"
      },
      "outputs": [
        {
          "data": {
            "text/plain": [
              "4.                          5403\n",
              "4..1                        1278\n",
              "ep-09-11-26-008-04.txt         0\n",
              "008-04                    432654\n",
              "Unnamed: 4                447330\n",
              "Unnamed: 5                 17652\n",
              "Unnamed: 6                645618\n",
              "Unnamed: 7                825901\n",
              "dtype: int64"
            ]
          },
          "execution_count": 9,
          "metadata": {},
          "output_type": "execute_result"
        }
      ],
      "source": [
        "df1.isnull().sum()"
      ]
    },
    {
      "cell_type": "code",
      "execution_count": 11,
      "metadata": {},
      "outputs": [],
      "source": [
        "df1.rename(columns={'4.': 'Greek', '4..1': 'english'}, inplace=True)"
      ]
    },
    {
      "cell_type": "code",
      "execution_count": 12,
      "metadata": {},
      "outputs": [
        {
          "data": {
            "text/plain": [
              "Index(['Greek', 'english', 'ep-09-11-26-008-04.txt', '008-04', 'Unnamed: 4',\n",
              "       'Unnamed: 5', 'Unnamed: 6', 'Unnamed: 7'],\n",
              "      dtype='object')"
            ]
          },
          "execution_count": 12,
          "metadata": {},
          "output_type": "execute_result"
        }
      ],
      "source": [
        "df1.columns"
      ]
    },
    {
      "cell_type": "code",
      "execution_count": 42,
      "metadata": {
        "colab": {
          "base_uri": "https://localhost:8080/"
        },
        "id": "Arrh1vRIW1Ud",
        "outputId": "d5f2733c-b349-4d04-c252-bc6b9f88a28f"
      },
      "outputs": [],
      "source": [
        "data = df1[['Greek','english']]"
      ]
    },
    {
      "cell_type": "code",
      "execution_count": 43,
      "metadata": {},
      "outputs": [],
      "source": [
        "data = data[['english','Greek']]"
      ]
    },
    {
      "cell_type": "code",
      "execution_count": 44,
      "metadata": {},
      "outputs": [
        {
          "data": {
            "text/html": [
              "<div>\n",
              "<style scoped>\n",
              "    .dataframe tbody tr th:only-of-type {\n",
              "        vertical-align: middle;\n",
              "    }\n",
              "\n",
              "    .dataframe tbody tr th {\n",
              "        vertical-align: top;\n",
              "    }\n",
              "\n",
              "    .dataframe thead th {\n",
              "        text-align: right;\n",
              "    }\n",
              "</style>\n",
              "<table border=\"1\" class=\"dataframe\">\n",
              "  <thead>\n",
              "    <tr style=\"text-align: right;\">\n",
              "      <th></th>\n",
              "      <th>english</th>\n",
              "      <th>Greek</th>\n",
              "    </tr>\n",
              "  </thead>\n",
              "  <tbody>\n",
              "    <tr>\n",
              "      <th>0</th>\n",
              "      <td>The ratification and implementation of the upd...</td>\n",
              "      <td>Κύρωση και εφαρμογή των αναθεωρημένων συμβάσεω...</td>\n",
              "    </tr>\n",
              "    <tr>\n",
              "      <th>1</th>\n",
              "      <td>7.</td>\n",
              "      <td>7.</td>\n",
              "    </tr>\n",
              "    <tr>\n",
              "      <th>2</th>\n",
              "      <td>Sustainable agriculture and biogas: review of ...</td>\n",
              "      <td>Βιώσιμη γεωργία και βιοαέριο: ανάγκη αναθεώρησ...</td>\n",
              "    </tr>\n",
              "    <tr>\n",
              "      <th>3</th>\n",
              "      <td>- Before the vote on paragraph 41:</td>\n",
              "      <td>- Πριν από την ψηφοφορία επί της παραγράφου 41:</td>\n",
              "    </tr>\n",
              "    <tr>\n",
              "      <th>4</th>\n",
              "      <td>rapporteur. - Mr President, we agreed to chang...</td>\n",
              "      <td>εισηγητής. - (EN) Κύριε Πρόεδρε, συμφωνήσαμε ν...</td>\n",
              "    </tr>\n",
              "  </tbody>\n",
              "</table>\n",
              "</div>"
            ],
            "text/plain": [
              "                                             english  \\\n",
              "0  The ratification and implementation of the upd...   \n",
              "1                                                 7.   \n",
              "2  Sustainable agriculture and biogas: review of ...   \n",
              "3                 - Before the vote on paragraph 41:   \n",
              "4  rapporteur. - Mr President, we agreed to chang...   \n",
              "\n",
              "                                               Greek  \n",
              "0  Κύρωση και εφαρμογή των αναθεωρημένων συμβάσεω...  \n",
              "1                                                 7.  \n",
              "2  Βιώσιμη γεωργία και βιοαέριο: ανάγκη αναθεώρησ...  \n",
              "3    - Πριν από την ψηφοφορία επί της παραγράφου 41:  \n",
              "4  εισηγητής. - (EN) Κύριε Πρόεδρε, συμφωνήσαμε ν...  "
            ]
          },
          "execution_count": 44,
          "metadata": {},
          "output_type": "execute_result"
        }
      ],
      "source": [
        "data.head()"
      ]
    },
    {
      "cell_type": "code",
      "execution_count": 45,
      "metadata": {},
      "outputs": [
        {
          "data": {
            "text/plain": [
              "english    0\n",
              "Greek      0\n",
              "dtype: int64"
            ]
          },
          "execution_count": 45,
          "metadata": {},
          "output_type": "execute_result"
        }
      ],
      "source": [
        "data = data.dropna()\n",
        "data.isnull().sum()"
      ]
    },
    {
      "cell_type": "code",
      "execution_count": 46,
      "metadata": {},
      "outputs": [
        {
          "data": {
            "text/plain": [
              "(1151942, 2)"
            ]
          },
          "execution_count": 46,
          "metadata": {},
          "output_type": "execute_result"
        }
      ],
      "source": [
        "data.shape"
      ]
    },
    {
      "cell_type": "code",
      "execution_count": 49,
      "metadata": {
        "id": "HSTpWNqwW3oo"
      },
      "outputs": [],
      "source": [
        "import nltk\n",
        "import re\n",
        "from nltk.tokenize import word_tokenize\n",
        "import spacy"
      ]
    },
    {
      "cell_type": "code",
      "execution_count": 50,
      "metadata": {},
      "outputs": [],
      "source": [
        "def contains_alphabetic(text):\n",
        "    return bool(re.search(r'[a-zA-Z]', text))\n",
        "\n",
        "def filter_df_by_alphabetic(df, column_name):\n",
        "    return df[df[column_name].apply(contains_alphabetic)]\n",
        "\n",
        "data = filter_df_by_alphabetic(data, 'Greek')\n",
        "data = filter_df_by_alphabetic(data, 'english')"
      ]
    },
    {
      "cell_type": "code",
      "execution_count": 51,
      "metadata": {},
      "outputs": [],
      "source": [
        "data = data.reset_index(drop=True)\n"
      ]
    },
    {
      "cell_type": "code",
      "execution_count": 52,
      "metadata": {},
      "outputs": [
        {
          "data": {
            "text/html": [
              "<div>\n",
              "<style scoped>\n",
              "    .dataframe tbody tr th:only-of-type {\n",
              "        vertical-align: middle;\n",
              "    }\n",
              "\n",
              "    .dataframe tbody tr th {\n",
              "        vertical-align: top;\n",
              "    }\n",
              "\n",
              "    .dataframe thead th {\n",
              "        text-align: right;\n",
              "    }\n",
              "</style>\n",
              "<table border=\"1\" class=\"dataframe\">\n",
              "  <thead>\n",
              "    <tr style=\"text-align: right;\">\n",
              "      <th></th>\n",
              "      <th>english</th>\n",
              "      <th>Greek</th>\n",
              "    </tr>\n",
              "  </thead>\n",
              "  <tbody>\n",
              "    <tr>\n",
              "      <th>0</th>\n",
              "      <td>rapporteur. - Mr President, we agreed to chang...</td>\n",
              "      <td>εισηγητής. - (EN) Κύριε Πρόεδρε, συμφωνήσαμε ν...</td>\n",
              "    </tr>\n",
              "    <tr>\n",
              "      <th>1</th>\n",
              "      <td>Mr President, Commissioner Ferrero-Waldner, la...</td>\n",
              "      <td>Προεδρεύων του Συμβουλίου. (DE) Κύριε Πρόεδρε,...</td>\n",
              "    </tr>\n",
              "    <tr>\n",
              "      <th>2</th>\n",
              "      <td>Mr President, President-in-Office Günter Glose...</td>\n",
              "      <td>Μέλος της Επιτροπής. (DE) Κύριε Πρόεδρε, κύριε...</td>\n",
              "    </tr>\n",
              "    <tr>\n",
              "      <th>3</th>\n",
              "      <td>on behalf of the PPE-DE Group. - (LT) First of...</td>\n",
              "      <td>εξ ονόματος της Ομάδας PPE-DE. - (LT) Καταρχάς...</td>\n",
              "    </tr>\n",
              "    <tr>\n",
              "      <th>4</th>\n",
              "      <td>on behalf of the PSE Group. - (ES) Mr Presiden...</td>\n",
              "      <td>εξ ονόματος της Ομάδας PSE. - (ES) Κύριε Πρόεδ...</td>\n",
              "    </tr>\n",
              "  </tbody>\n",
              "</table>\n",
              "</div>"
            ],
            "text/plain": [
              "                                             english  \\\n",
              "0  rapporteur. - Mr President, we agreed to chang...   \n",
              "1  Mr President, Commissioner Ferrero-Waldner, la...   \n",
              "2  Mr President, President-in-Office Günter Glose...   \n",
              "3  on behalf of the PPE-DE Group. - (LT) First of...   \n",
              "4  on behalf of the PSE Group. - (ES) Mr Presiden...   \n",
              "\n",
              "                                               Greek  \n",
              "0  εισηγητής. - (EN) Κύριε Πρόεδρε, συμφωνήσαμε ν...  \n",
              "1  Προεδρεύων του Συμβουλίου. (DE) Κύριε Πρόεδρε,...  \n",
              "2  Μέλος της Επιτροπής. (DE) Κύριε Πρόεδρε, κύριε...  \n",
              "3  εξ ονόματος της Ομάδας PPE-DE. - (LT) Καταρχάς...  \n",
              "4  εξ ονόματος της Ομάδας PSE. - (ES) Κύριε Πρόεδ...  "
            ]
          },
          "execution_count": 52,
          "metadata": {},
          "output_type": "execute_result"
        }
      ],
      "source": [
        "data.head()"
      ]
    },
    {
      "cell_type": "code",
      "execution_count": 53,
      "metadata": {},
      "outputs": [
        {
          "data": {
            "text/plain": [
              "RangeIndex(start=0, stop=8979, step=1)"
            ]
          },
          "execution_count": 53,
          "metadata": {},
          "output_type": "execute_result"
        }
      ],
      "source": [
        "data.index"
      ]
    },
    {
      "cell_type": "code",
      "execution_count": 54,
      "metadata": {},
      "outputs": [
        {
          "data": {
            "text/plain": [
              "str"
            ]
          },
          "execution_count": 54,
          "metadata": {},
          "output_type": "execute_result"
        }
      ],
      "source": [
        "type(data['english'][0])"
      ]
    },
    {
      "cell_type": "code",
      "execution_count": 55,
      "metadata": {},
      "outputs": [],
      "source": [
        "from sklearn.model_selection import train_test_split\n",
        "train, val = train_test_split(data, test_size=0.2, random_state=42)"
      ]
    },
    {
      "cell_type": "code",
      "execution_count": 56,
      "metadata": {},
      "outputs": [
        {
          "data": {
            "text/plain": [
              "str"
            ]
          },
          "execution_count": 56,
          "metadata": {},
          "output_type": "execute_result"
        }
      ],
      "source": [
        "type(data['english'][0])"
      ]
    },
    {
      "cell_type": "code",
      "execution_count": 57,
      "metadata": {},
      "outputs": [
        {
          "name": "stderr",
          "output_type": "stream",
          "text": [
            "/Library/Frameworks/Python.framework/Versions/3.11/lib/python3.11/site-packages/transformers/models/marian/tokenization_marian.py:175: UserWarning: Recommended: pip install sacremoses.\n",
            "  warnings.warn(\"Recommended: pip install sacremoses.\")\n"
          ]
        }
      ],
      "source": [
        "from transformers import AutoTokenizer, AutoModelForSeq2SeqLM\n",
        "\n",
        "tokenizer = AutoTokenizer.from_pretrained(\"Helsinki-NLP/opus-mt-en-el\")\n",
        "model = AutoModelForSeq2SeqLM.from_pretrained(\"Helsinki-NLP/opus-mt-en-el\")\n"
      ]
    },
    {
      "cell_type": "code",
      "execution_count": 59,
      "metadata": {
        "id": "Y3083KQDd8Ya"
      },
      "outputs": [
        {
          "name": "stdout",
          "output_type": "stream",
          "text": [
            "Original text: How are you?\n",
            "Translated text: Πώς είσαι;\n"
          ]
        }
      ],
      "source": [
        "input_text = \"How are you?\"\n",
        "\n",
        "inputs = tokenizer(input_text, return_tensors=\"pt\", padding=True, truncation=True).to('cpu')\n",
        "\n",
        "with torch.no_grad():\n",
        "    outputs = model.generate(**inputs)\n",
        "\n",
        "translated_text = tokenizer.decode(outputs[0], skip_special_tokens=True)\n",
        "\n",
        "print(f\"Original text: {input_text}\")\n",
        "print(f\"Translated text: {translated_text}\")"
      ]
    },
    {
      "cell_type": "code",
      "execution_count": 60,
      "metadata": {},
      "outputs": [
        {
          "name": "stderr",
          "output_type": "stream",
          "text": [
            "/Library/Frameworks/Python.framework/Versions/3.11/lib/python3.11/site-packages/transformers/tokenization_utils_base.py:3921: UserWarning: `as_target_tokenizer` is deprecated and will be removed in v5 of Transformers. You can tokenize your labels by using the argument `text_target` of the regular `__call__` method (either in the same call as your input texts if you use the same keyword arguments, or in a separate call.\n",
            "  warnings.warn(\n"
          ]
        }
      ],
      "source": [
        "def tokenize_row(row):\n",
        "    inputs = tokenizer(row['Greek'], max_length=128, truncation=True, padding=\"max_length\")\n",
        "    with tokenizer.as_target_tokenizer():\n",
        "        targets = tokenizer(row['english'], max_length=128, truncation=True, padding=\"max_length\")\n",
        "    \n",
        "    inputs['labels'] = targets['input_ids']\n",
        "    return inputs\n",
        "\n",
        "tokenized_data = data.apply(tokenize_row, axis=1).apply(pd.Series)\n",
        "\n",
        "import torch\n",
        "\n",
        "def convert_to_torch_dataset(df):\n",
        "    input_ids = torch.tensor(df['input_ids'].tolist())\n",
        "    attention_mask = torch.tensor(df['attention_mask'].tolist())\n",
        "    labels = torch.tensor(df['labels'].tolist())\n",
        "    \n",
        "    dataset = torch.utils.data.TensorDataset(input_ids, attention_mask, labels)\n",
        "    return dataset\n",
        "\n",
        "torch_dataset = convert_to_torch_dataset(tokenized_data)"
      ]
    },
    {
      "cell_type": "code",
      "execution_count": 61,
      "metadata": {},
      "outputs": [],
      "source": [
        "X_train_tkn = tokenizer(train['english'].tolist(),max_length=180, padding=True, truncation=True, return_tensors=\"pt\")\n",
        "X_val_tkn = tokenizer(val['english'].tolist(),max_length=180, padding=True, truncation=True, return_tensors=\"pt\")"
      ]
    },
    {
      "cell_type": "code",
      "execution_count": 62,
      "metadata": {},
      "outputs": [],
      "source": [
        "with tokenizer.as_target_tokenizer():\n",
        "        y_train_tkn = tokenizer(train['Greek'].tolist(), max_length=180, padding=True, truncation=True, return_tensors=\"pt\")\n",
        "        y_val_tkn = tokenizer(val['Greek'].tolist(), max_length=180, padding=True, truncation=True, return_tensors=\"pt\")"
      ]
    },
    {
      "cell_type": "code",
      "execution_count": 63,
      "metadata": {},
      "outputs": [],
      "source": [
        "X_train = X_train_tkn['input_ids']\n",
        "X_train_mask = X_train_tkn['attention_mask']\n",
        "y_train=y_train_tkn['input_ids']\n",
        "y_train_mask = y_train_tkn['attention_mask']\n",
        "X_val = X_val_tkn['input_ids']\n",
        "X_val_mask = X_val_tkn['attention_mask']\n",
        "y_val=y_val_tkn['input_ids']\n",
        "y_val_mask = y_val_tkn['attention_mask']"
      ]
    },
    {
      "cell_type": "code",
      "execution_count": 64,
      "metadata": {},
      "outputs": [],
      "source": [
        "from torch.utils.data import TensorDataset, DataLoader, RandomSampler, SequentialSampler\n",
        "import torch.optim as optim\n",
        "\n",
        "batch_size = 16\n",
        "\n",
        "train_dataset = TensorDataset(X_train, X_train_mask, y_train, y_train_mask)\n",
        "train_dataloader = DataLoader(train_dataset, sampler=RandomSampler(train_dataset), batch_size=batch_size)\n",
        "\n",
        "val_dataset = TensorDataset(X_val, X_val_mask, y_val, y_val_mask)\n",
        "val_dataloader = DataLoader(val_dataset, sampler=RandomSampler(val_dataset), batch_size=batch_size)"
      ]
    },
    {
      "cell_type": "code",
      "execution_count": 65,
      "metadata": {},
      "outputs": [],
      "source": [
        "optimizer = optim.AdamW(model.parameters(), lr=2e-5)\n",
        "if torch.backends.mps.is_available():\n",
        "    device = torch.device(\"mps\")\n",
        "elif torch.cuda.is_available():\n",
        "    device = torch.device(\"cuda\")\n",
        "else:\n",
        "    device = torch.device(\"cpu\")"
      ]
    },
    {
      "cell_type": "code",
      "execution_count": null,
      "metadata": {},
      "outputs": [],
      "source": [
        "encoder_layer_count = len(model.model.encoder.layers)\n",
        "decoder_layer_count = len(model.model.decoder.layers)\n"
      ]
    },
    {
      "cell_type": "code",
      "execution_count": 67,
      "metadata": {},
      "outputs": [],
      "source": [
        "# Freeze encoder layers\n",
        "for i in range(5):\n",
        "    for param in model.model.encoder.layers[i].parameters():\n",
        "        param.requires_grad = False\n",
        "\n",
        "# Freeze decoder layers\n",
        "for i in range(5):\n",
        "    for param in model.model.decoder.layers[i].parameters():\n",
        "        param.requires_grad = False"
      ]
    },
    {
      "cell_type": "code",
      "execution_count": 69,
      "metadata": {},
      "outputs": [
        {
          "name": "stdout",
          "output_type": "stream",
          "text": [
            "Epoch 1, Loss: 0.3693\n",
            "Epoch 2, Loss: 0.2465\n",
            "Epoch 3, Loss: 0.2296\n",
            "Epoch 4, Loss: 0.2168\n",
            "Epoch 5, Loss: 0.2057\n"
          ]
        }
      ],
      "source": [
        "import numpy as np\n",
        "\n",
        "model.train()\n",
        "model = model.to(device)\n",
        "epochs=[]\n",
        "loss_values=[]\n",
        "for epoch in range(5):\n",
        "    total_loss=0\n",
        "\n",
        "    for step, batch in enumerate(train_dataloader):\n",
        "        batch = tuple(t.to(device) for t in batch)\n",
        "        b_input_ids, b_input_mask, b_labels, b_label_mask  = batch\n",
        "        optimizer.zero_grad()\n",
        "\n",
        "        outputs = model(b_input_ids, attention_mask=b_input_mask, labels=b_labels)\n",
        "        loss = outputs.loss\n",
        "        loss.backward()\n",
        "        optimizer.step()\n",
        "        total_loss += loss.item()\n",
        "    avg_epoch_loss = total_loss / len(train_dataloader)\n",
        "    loss_values.append(avg_epoch_loss)\n",
        "    print(f'Epoch {epoch + 1}, Loss: {avg_epoch_loss:.4f}')"
      ]
    },
    {
      "cell_type": "code",
      "execution_count": 70,
      "metadata": {},
      "outputs": [],
      "source": [
        "torch.save(model.state_dict(), 'en_el_weights.pth')"
      ]
    },
    {
      "cell_type": "code",
      "execution_count": 71,
      "metadata": {},
      "outputs": [],
      "source": [
        "from nltk.translate.bleu_score import sentence_bleu, SmoothingFunction\n",
        "from transformers import AutoTokenizer, AutoModelForSeq2SeqLM\n",
        "import os"
      ]
    },
    {
      "cell_type": "code",
      "execution_count": 72,
      "metadata": {},
      "outputs": [
        {
          "name": "stdout",
          "output_type": "stream",
          "text": [
            "Validation Loss: 4.0795\n",
            "BLEU Score: 0.0193\n"
          ]
        }
      ],
      "source": [
        "os.environ['PYTORCH_ENABLE_MPS_FALLBACK'] = '1'\n",
        "\n",
        "def validate_model(model, validation_dataloader):\n",
        "    model.to('cpu') \n",
        "    model.eval()\n",
        "    total_val_loss = 0\n",
        "    references = []\n",
        "    hypotheses = []\n",
        "    smoothie = SmoothingFunction().method4 \n",
        "\n",
        "    with torch.no_grad():\n",
        "        for step, batch in enumerate(validation_dataloader):\n",
        "            batch = tuple(t.to('cpu') for t in batch)\n",
        "            b_input_ids, b_input_mask, b_labels, b_label_mask = batch\n",
        "\n",
        "            outputs = model(input_ids=b_input_ids, attention_mask=b_input_mask, labels=b_labels)\n",
        "            loss = outputs.loss\n",
        "            total_val_loss += loss.item()\n",
        "\n",
        "            try:\n",
        "                generated_ids = model.generate(\n",
        "                    input_ids=b_input_ids,\n",
        "                    attention_mask=b_input_mask,\n",
        "                    max_length=128,  \n",
        "                    num_beams=2,\n",
        "                    early_stopping=True\n",
        "                )\n",
        "            except NotImplementedError as e:\n",
        "                print(f\"Error during generation: {e}\")\n",
        "                continue\n",
        "\n",
        "            for i in range(len(generated_ids)):\n",
        "                pred_sentence = generated_ids[i].tolist()\n",
        "                true_sentence = b_labels[i][b_label_mask[i] == 1].tolist()\n",
        "\n",
        "                hypotheses.append(pred_sentence)\n",
        "                references.append([true_sentence])\n",
        "\n",
        "    avg_val_loss = total_val_loss / len(validation_dataloader)\n",
        "    print(f'Validation Loss: {avg_val_loss:.4f}')\n",
        "\n",
        "    bleu_score = np.mean([\n",
        "        sentence_bleu(ref, hyp, smoothing_function=smoothie) \n",
        "        for ref, hyp in zip(references, hypotheses)\n",
        "    ])\n",
        "    print(f'BLEU Score: {bleu_score:.4f}')\n",
        "\n",
        "    return avg_val_loss, bleu_score\n",
        "\n",
        "validation_loss, bleu_score = validate_model(model, val_dataloader)"
      ]
    },
    {
      "cell_type": "code",
      "execution_count": 2,
      "metadata": {},
      "outputs": [
        {
          "data": {
            "image/png": "[encoded data removed]",
            "text/plain": [
              "<Figure size 800x600 with 1 Axes>"
            ]
          },
          "metadata": {},
          "output_type": "display_data"
        }
      ],
      "source": [
        "import matplotlib.pyplot as plt\n",
        "\n",
        "# Data\n",
        "epochs = [1, 2, 3, 4, 5]\n",
        "loss = [0.3693, 0.2465, 0.2296, 0.2168, 0.2057]\n",
        "\n",
        "# Plotting\n",
        "plt.figure(figsize=(8, 6))\n",
        "plt.plot(epochs, loss, marker='o', linestyle='-', color='b')\n",
        "plt.title('Training Loss Over Epochs for english to greek')\n",
        "plt.xlabel('Epoch')\n",
        "plt.ylabel('Loss')\n",
        "plt.grid(True)\n",
        "plt.xticks(epochs)  \n",
        "plt.show()"
      ]
    },
    {
      "cell_type": "code",
      "execution_count": null,
      "metadata": {},
      "outputs": [],
      "source": []
    }
  ],
  "metadata": {
    "colab": {
      "provenance": []
    },
    "kernelspec": {
      "display_name": "Python 3",
      "name": "python3"
    },
    "language_info": {
      "codemirror_mode": {
        "name": "ipython",
        "version": 3
      },
      "file_extension": ".py",
      "mimetype": "text/x-python",
      "name": "python",
      "nbconvert_exporter": "python",
      "pygments_lexer": "ipython3",
      "version": "3.12.2"
    }
  },
  "nbformat": 4,
  "nbformat_minor": 0
}
